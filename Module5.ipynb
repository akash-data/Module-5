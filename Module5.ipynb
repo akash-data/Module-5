{
  "nbformat": 4,
  "nbformat_minor": 0,
  "metadata": {
    "colab": {
      "provenance": []
    },
    "kernelspec": {
      "name": "python3",
      "display_name": "Python 3"
    },
    "language_info": {
      "name": "python"
    }
  },
  "cells": [
    {
      "cell_type": "markdown",
      "source": [
        "##               Module 5\n"
      ],
      "metadata": {
        "id": "qfUfhz5R53uh"
      }
    },
    {
      "cell_type": "markdown",
      "source": [
        "## Theory Questions:"
      ],
      "metadata": {
        "id": "h_FFM7C97qBs"
      }
    },
    {
      "cell_type": "markdown",
      "source": [
        " Q1: What is the difference between a function and a method in Python? with an example.....\n",
        "-->>\n",
        "* Function:\n",
        "  * A function is like a tool that works on its own.\n",
        "We give it some input, and it gives you output.\n",
        "It doesn’t belong to any object.\n",
        "\n",
        "Example...>>"
      ],
      "metadata": {
        "id": "cAgueFBC5YhC"
      }
    },
    {
      "cell_type": "code",
      "source": [
        "def add(a, b):\n",
        "    return a + b\n",
        "\n",
        "print(add(2, 3))"
      ],
      "metadata": {
        "colab": {
          "base_uri": "https://localhost:8080/"
        },
        "id": "zis1f56D3fJr",
        "outputId": "ffc70a69-5552-4635-8b4a-8e6d4f9355f0"
      },
      "execution_count": 156,
      "outputs": [
        {
          "output_type": "stream",
          "name": "stdout",
          "text": [
            "5\n"
          ]
        }
      ]
    },
    {
      "cell_type": "markdown",
      "source": [
        "* Method:\n",
        "\n",
        "  * A method is also like a function, but it belongs to an object.\n",
        "You use it with dot (.) after an object.\n",
        "\n",
        "Example..>>"
      ],
      "metadata": {
        "id": "CA4i6O9n6FUl"
      }
    },
    {
      "cell_type": "code",
      "source": [
        "text = \"hello\"\n",
        "print(text.upper())"
      ],
      "metadata": {
        "colab": {
          "base_uri": "https://localhost:8080/"
        },
        "id": "8pIQvJ-53fHh",
        "outputId": "0be46a8e-8799-4a9f-ea1a-37a8c3b13460"
      },
      "execution_count": 157,
      "outputs": [
        {
          "output_type": "stream",
          "name": "stdout",
          "text": [
            "HELLO\n"
          ]
        }
      ]
    },
    {
      "cell_type": "code",
      "source": [
        "\"\"\"\n",
        "Another Simple Example:\n",
        "\"\"\"\n",
        "# Function\n",
        "def say_hello(name):\n",
        "    return f\"Hello, {name}!\"\n",
        "\n",
        "print(say_hello(\"Akash\"))  # Using a function\n",
        "\n",
        "# Method\n",
        "name = \"akash\"\n",
        "print(name.capitalize())   # Using a method of string"
      ],
      "metadata": {
        "colab": {
          "base_uri": "https://localhost:8080/"
        },
        "id": "T7_f1EDj3fD1",
        "outputId": "e32f7b34-1cba-4526-e28a-30aa75a0f550"
      },
      "execution_count": 158,
      "outputs": [
        {
          "output_type": "stream",
          "name": "stdout",
          "text": [
            "Hello, Akash!\n",
            "Akash\n"
          ]
        }
      ]
    },
    {
      "cell_type": "markdown",
      "source": [
        "Q2: Explain the concept of function arguments and parameters in python? with an example...>>\n",
        "\n",
        "* Parameters:\n",
        "  * These are the placeholders or names used when defining a function.\n",
        "\n",
        "  * Think of them as empty boxes waiting for a value.\n",
        "* Arguments:\n",
        "  * These are the actual values you pass into the function when calling it.\n",
        "\n",
        "  * They fill the boxes.\n",
        "\n",
        "  Example..>>\n",
        "\n",
        "  "
      ],
      "metadata": {
        "id": "5yC7k0gA7J-J"
      }
    },
    {
      "cell_type": "code",
      "source": [
        "# Defining the function with parameters: name and age\n",
        "def greet(name, age):\n",
        "    print(f\"Hello {name}, you are {age} years old.\")\n",
        "\n",
        "# Calling the function with arguments: \"Akash\" and 20\n",
        "greet(\"Akash\", 20)\n",
        "\n",
        "\n",
        "\"\"\"\n",
        " Here:\n",
        "\n",
        "  * name and age are parameters (in the function definition).\n",
        "\n",
        "  * \"Akash\" and 20 are arguments (in the function call).\n",
        "\n",
        "\"\"\"\n"
      ],
      "metadata": {
        "colab": {
          "base_uri": "https://localhost:8080/",
          "height": 70
        },
        "id": "U2lsI4fw3fCL",
        "outputId": "5ee48418-aa51-496a-cd25-d74972c77541"
      },
      "execution_count": 159,
      "outputs": [
        {
          "output_type": "stream",
          "name": "stdout",
          "text": [
            "Hello Akash, you are 20 years old.\n"
          ]
        },
        {
          "output_type": "execute_result",
          "data": {
            "text/plain": [
              "'\\n Here:\\n\\n  * name and age are parameters (in the function definition).\\n\\n  * \"Akash\" and 20 are arguments (in the function call).\\n\\n'"
            ],
            "application/vnd.google.colaboratory.intrinsic+json": {
              "type": "string"
            }
          },
          "metadata": {},
          "execution_count": 159
        }
      ]
    },
    {
      "cell_type": "markdown",
      "source": [
        "Q3: What are the different ways to define and call a function in Python? with an example...>>\n",
        "\n",
        "\n"
      ],
      "metadata": {
        "id": "RMWM6a_59GWO"
      }
    },
    {
      "cell_type": "code",
      "source": [
        "# (i) Regular Function (with def)\n",
        "def greet(name):\n",
        "    print(f\"Hello, {name}!\")\n"
      ],
      "metadata": {
        "id": "03J4R2le3fAs"
      },
      "execution_count": 160,
      "outputs": []
    },
    {
      "cell_type": "code",
      "source": [
        "greet(\"Akash\")"
      ],
      "metadata": {
        "colab": {
          "base_uri": "https://localhost:8080/"
        },
        "id": "ntNSUR1_3e-c",
        "outputId": "71a47f61-45ff-49ff-f51d-9a53fdc7ad11"
      },
      "execution_count": 161,
      "outputs": [
        {
          "output_type": "stream",
          "name": "stdout",
          "text": [
            "Hello, Akash!\n"
          ]
        }
      ]
    },
    {
      "cell_type": "code",
      "source": [
        "# (ii) Function with Default Arguments\n",
        "def greet(name=\"Guest\"):\n",
        "    print(f\"Hello, {name}!\")"
      ],
      "metadata": {
        "id": "DotEp3Ph3e6Q"
      },
      "execution_count": 162,
      "outputs": []
    },
    {
      "cell_type": "code",
      "source": [
        "greet()           # Output: Hello, Guest!\n",
        "greet(\"Akash\")    # Output: Hello, Akash!"
      ],
      "metadata": {
        "colab": {
          "base_uri": "https://localhost:8080/"
        },
        "id": "rVNX7KMO3e3f",
        "outputId": "8904351d-cea0-42bf-b25b-af420f4be3a4"
      },
      "execution_count": 163,
      "outputs": [
        {
          "output_type": "stream",
          "name": "stdout",
          "text": [
            "Hello, Guest!\n",
            "Hello, Akash!\n"
          ]
        }
      ]
    },
    {
      "cell_type": "code",
      "source": [
        "# (iii) Function with args (Variable-Length Positional Arguments)\n",
        "##Used when we don't know how many arguments will be passed.\n",
        "\n",
        "\n",
        "def total(*numbers):\n",
        "    print(sum(numbers))"
      ],
      "metadata": {
        "id": "qG67WoHa3e1A"
      },
      "execution_count": 164,
      "outputs": []
    },
    {
      "cell_type": "code",
      "source": [
        "total(1, 2, 3)\n",
        "total(5, 10, 15, 20) # Output: 50"
      ],
      "metadata": {
        "colab": {
          "base_uri": "https://localhost:8080/"
        },
        "id": "bl9eQ0R_3ezb",
        "outputId": "c7751ecb-725d-49aa-c828-c802ed9e9248"
      },
      "execution_count": 165,
      "outputs": [
        {
          "output_type": "stream",
          "name": "stdout",
          "text": [
            "6\n",
            "50\n"
          ]
        }
      ]
    },
    {
      "cell_type": "code",
      "source": [
        "# (iv) Function with kwargs (Keyword Arguments)\n",
        "def show_info(**details):\n",
        "    for key, value in details.items():\n",
        "        print(f\"{key}: {value}\")"
      ],
      "metadata": {
        "id": "vMIlTslO3evn"
      },
      "execution_count": 166,
      "outputs": []
    },
    {
      "cell_type": "code",
      "source": [
        "show_info(name=\"Akash\", age=20)"
      ],
      "metadata": {
        "colab": {
          "base_uri": "https://localhost:8080/"
        },
        "id": "Deka3f4p3epl",
        "outputId": "d5997908-8722-4538-e020-93f19fe678e5"
      },
      "execution_count": 167,
      "outputs": [
        {
          "output_type": "stream",
          "name": "stdout",
          "text": [
            "name: Akash\n",
            "age: 20\n"
          ]
        }
      ]
    },
    {
      "cell_type": "code",
      "source": [
        "# (v)Lambda Function (One-line function)\n",
        "add = lambda a, b: a + b\n",
        "print(add(2, 3))"
      ],
      "metadata": {
        "colab": {
          "base_uri": "https://localhost:8080/"
        },
        "id": "I2c-WNf83el9",
        "outputId": "03be6cd1-0d4a-46cf-e047-d6e684779a6e"
      },
      "execution_count": 168,
      "outputs": [
        {
          "output_type": "stream",
          "name": "stdout",
          "text": [
            "5\n"
          ]
        }
      ]
    },
    {
      "cell_type": "code",
      "source": [
        "# (vi) Function Inside a Class (Method)\n",
        "class Person:\n",
        "    def greet(self, name):\n",
        "        print(f\"Hi, {name}!\")\n",
        "\n",
        "p = Person()\n",
        "p.greet(\"Akash\")\n"
      ],
      "metadata": {
        "colab": {
          "base_uri": "https://localhost:8080/"
        },
        "id": "OsC-UBOa3eii",
        "outputId": "d03b8981-693f-4649-92b8-bd68e972c7fa"
      },
      "execution_count": 169,
      "outputs": [
        {
          "output_type": "stream",
          "name": "stdout",
          "text": [
            "Hi, Akash!\n"
          ]
        }
      ]
    },
    {
      "cell_type": "code",
      "source": [
        "#(vii) Function Returning a Value\n",
        "def square(num):\n",
        "    return num * num"
      ],
      "metadata": {
        "id": "Dihn3Vgr3edk"
      },
      "execution_count": 170,
      "outputs": []
    },
    {
      "cell_type": "code",
      "source": [
        "result = square(4)\n",
        "print(result)"
      ],
      "metadata": {
        "colab": {
          "base_uri": "https://localhost:8080/"
        },
        "id": "MTQeqHQ_3eaL",
        "outputId": "c8900e2b-91c8-4120-99cc-2149c953426b"
      },
      "execution_count": 171,
      "outputs": [
        {
          "output_type": "stream",
          "name": "stdout",
          "text": [
            "16\n"
          ]
        }
      ]
    },
    {
      "cell_type": "markdown",
      "source": [
        "Q4: What is the purpose of the return' statement in a Python function?with an example..>>\n",
        "-->>\n",
        "* The return statement is used inside a function to:\n",
        "\n",
        "   * Send back a result/output to where the function was called.\n",
        "\n",
        "   * End the function at that point.\n",
        "\n",
        " -->>\n",
        "\n",
        "* Purpose of return:\n",
        "\n",
        "   *  Give back a value\n",
        "\n",
        "   *  Store function result in a variable\n",
        "\n",
        "   *  Stop function execution\n",
        "\n",
        " Example..>>"
      ],
      "metadata": {
        "id": "yhPI2BaTAZKi"
      }
    },
    {
      "cell_type": "code",
      "execution_count": 172,
      "metadata": {
        "colab": {
          "base_uri": "https://localhost:8080/"
        },
        "id": "SQ_Vzx033YwS",
        "outputId": "77d725f2-038c-47f9-b9d3-4a62ccb3e815"
      },
      "outputs": [
        {
          "output_type": "stream",
          "name": "stdout",
          "text": [
            "The sum is: 8\n"
          ]
        }
      ],
      "source": [
        "# Example 1: Return a Value\n",
        "def add(a, b):\n",
        "    return a + b\n",
        "\n",
        "result = add(3, 5)\n",
        "print(\"The sum is:\", result)\n",
        "\n"
      ]
    },
    {
      "cell_type": "code",
      "source": [
        "# Example 2: Without Return\n",
        "def add(a, b):\n",
        "    print(a + b)\n",
        "\n",
        "result = add(3, 5)\n",
        "print(\"Returned value:\", result)"
      ],
      "metadata": {
        "colab": {
          "base_uri": "https://localhost:8080/"
        },
        "id": "XdCXH0XFCHL-",
        "outputId": "b4a00e98-029f-4c2a-c9f3-1a94b0fda6fb"
      },
      "execution_count": 173,
      "outputs": [
        {
          "output_type": "stream",
          "name": "stdout",
          "text": [
            "8\n",
            "Returned value: None\n"
          ]
        }
      ]
    },
    {
      "cell_type": "code",
      "source": [
        "#  Example 3: Return Multiple Values\n",
        "def calculator(a, b):\n",
        "    return a + b, a - b, a * b\n",
        "\n",
        "sum_, diff, prod = calculator(10, 5)\n",
        "print(sum_, diff, prod)"
      ],
      "metadata": {
        "colab": {
          "base_uri": "https://localhost:8080/"
        },
        "id": "BaQILkGFCHJv",
        "outputId": "8a20276f-246a-49e5-fe96-26d079288e40"
      },
      "execution_count": 174,
      "outputs": [
        {
          "output_type": "stream",
          "name": "stdout",
          "text": [
            "15 5 50\n"
          ]
        }
      ]
    },
    {
      "cell_type": "markdown",
      "source": [
        "# Q5: What are iterators in Python and how do they differ from iterables?with an example...>>\n",
        "## Iterable:\n",
        "   * An iterable is any object that can be looped over using a for loop.\n",
        "\n",
        "* Examples: lists, tuples, strings, sets, dictionaries\n",
        "## Iterator:\n",
        "* An iterator is an object that keeps track of where you are in a loop.\n",
        "\n",
        "* It uses two methods:\n",
        "\n",
        "     * __iter__() --> makes the object iterable\n",
        "     * __next__() --> gives the next item\n",
        "\n",
        " #### Example...>>    "
      ],
      "metadata": {
        "id": "rCD8o9utCgnH"
      }
    },
    {
      "cell_type": "code",
      "source": [
        "my_list = [1, 2, 3]                    #my_list = [1, 2, 3]\n",
        "# we can loop over it\n",
        "for item in my_list:\n",
        "    print(item)"
      ],
      "metadata": {
        "colab": {
          "base_uri": "https://localhost:8080/"
        },
        "id": "B5DySab_CHHt",
        "outputId": "9ae28f72-9fcf-48c0-8711-353e4dfbf404"
      },
      "execution_count": 175,
      "outputs": [
        {
          "output_type": "stream",
          "name": "stdout",
          "text": [
            "1\n",
            "2\n",
            "3\n"
          ]
        }
      ]
    },
    {
      "cell_type": "code",
      "source": [
        "my_list = [1, 2, 3]\n",
        "my_iterator = iter(my_list)  # Now it's an iterator\n",
        "\n",
        "print(next(my_iterator))\n",
        "print(next(my_iterator))\n",
        "print(next(my_iterator))"
      ],
      "metadata": {
        "colab": {
          "base_uri": "https://localhost:8080/"
        },
        "id": "EHtyra9FCHFJ",
        "outputId": "017c00d5-3994-4f4d-f3a6-6adfadff48a0"
      },
      "execution_count": 176,
      "outputs": [
        {
          "output_type": "stream",
          "name": "stdout",
          "text": [
            "1\n",
            "2\n",
            "3\n"
          ]
        }
      ]
    },
    {
      "cell_type": "markdown",
      "source": [
        "Q6: Explain the concept of generators in Python and how they are defined?with an example..>>\n",
        "\n",
        "-->>\n",
        "* A generator is a special type of function that:\n",
        "\n",
        "* Generates values one by one, on demand\n",
        "\n",
        "* Saves memory because it doesn’t store all values at once\n",
        "\n",
        "* Uses the yield keyword instead of return\n",
        "\n",
        "   * We use Generators?\n",
        "     * For large data, like reading files line by line\n",
        "\n",
        "     * When we want to save memory\n",
        "\n",
        "     * When we want lazy evaluation (generate only it's needed)\n",
        "\n",
        "\n",
        "Example..>>\n",
        "\n",
        "\n",
        "\n"
      ],
      "metadata": {
        "id": "RytMb9RoEmyB"
      }
    },
    {
      "cell_type": "code",
      "source": [
        "def my_generator():\n",
        "    yield 1\n",
        "    yield 2\n",
        "    yield 3"
      ],
      "metadata": {
        "id": "BB_oO4u0CHBu"
      },
      "execution_count": 177,
      "outputs": []
    },
    {
      "cell_type": "code",
      "source": [
        "gen = my_generator()\n"
      ],
      "metadata": {
        "id": "YdUE6piuCG_Y"
      },
      "execution_count": 178,
      "outputs": []
    },
    {
      "cell_type": "code",
      "source": [
        "print(next(gen))"
      ],
      "metadata": {
        "colab": {
          "base_uri": "https://localhost:8080/"
        },
        "id": "M50Mq7wWCG8i",
        "outputId": "e044ef93-ff4b-420f-9de4-384494f3d9b7"
      },
      "execution_count": 179,
      "outputs": [
        {
          "output_type": "stream",
          "name": "stdout",
          "text": [
            "1\n"
          ]
        }
      ]
    },
    {
      "cell_type": "code",
      "source": [
        "print(next(gen))"
      ],
      "metadata": {
        "colab": {
          "base_uri": "https://localhost:8080/"
        },
        "id": "MDhgMmUQGBE9",
        "outputId": "4f00e1ef-7339-47ef-adac-52012cac5e59"
      },
      "execution_count": 180,
      "outputs": [
        {
          "output_type": "stream",
          "name": "stdout",
          "text": [
            "2\n"
          ]
        }
      ]
    },
    {
      "cell_type": "code",
      "source": [
        "print(next(gen))"
      ],
      "metadata": {
        "colab": {
          "base_uri": "https://localhost:8080/"
        },
        "id": "q5Kv-LoWGBDN",
        "outputId": "b5bb0210-f92e-4530-f832-badf17dab4b5"
      },
      "execution_count": 181,
      "outputs": [
        {
          "output_type": "stream",
          "name": "stdout",
          "text": [
            "3\n"
          ]
        }
      ]
    },
    {
      "cell_type": "code",
      "source": [
        "print(next(gen))"
      ],
      "metadata": {
        "colab": {
          "base_uri": "https://localhost:8080/",
          "height": 141
        },
        "id": "c7xsQF1fGA_c",
        "outputId": "455fb625-f0ab-4778-a687-df358cc31090"
      },
      "execution_count": 182,
      "outputs": [
        {
          "output_type": "error",
          "ename": "StopIteration",
          "evalue": "",
          "traceback": [
            "\u001b[0;31m---------------------------------------------------------------------------\u001b[0m",
            "\u001b[0;31mStopIteration\u001b[0m                             Traceback (most recent call last)",
            "\u001b[0;32m<ipython-input-182-2955553870>\u001b[0m in \u001b[0;36m<cell line: 0>\u001b[0;34m()\u001b[0m\n\u001b[0;32m----> 1\u001b[0;31m \u001b[0mprint\u001b[0m\u001b[0;34m(\u001b[0m\u001b[0mnext\u001b[0m\u001b[0;34m(\u001b[0m\u001b[0mgen\u001b[0m\u001b[0;34m)\u001b[0m\u001b[0;34m)\u001b[0m\u001b[0;34m\u001b[0m\u001b[0;34m\u001b[0m\u001b[0m\n\u001b[0m",
            "\u001b[0;31mStopIteration\u001b[0m: "
          ]
        }
      ]
    },
    {
      "cell_type": "markdown",
      "source": [
        "Q7: What are the advantages of using generators over regular functions?with an example..>>\n",
        "\n",
        "# Memory Efficient\n",
        "*They don’t store the whole data in memory — they generate items one by one*\n",
        "# Faster Start Time\n",
        "*No need to compute all results before starting*\n",
        "# Lazy Evaluation\n",
        "*They compute values only when needed*"
      ],
      "metadata": {
        "id": "8pWyypmnGHZz"
      }
    },
    {
      "cell_type": "code",
      "source": [
        "# Example: Generator vs Regular Function\n",
        "def get_squares_list(limit):\n",
        "    squares = []\n",
        "    for i in range(limit):\n",
        "        squares.append(i * i)\n",
        "    return squares\n",
        "\n",
        "print(get_squares_list(5))"
      ],
      "metadata": {
        "id": "s1PuX8DAGA6r"
      },
      "execution_count": null,
      "outputs": []
    },
    {
      "cell_type": "markdown",
      "source": [
        "Q8: What is a lambda function in Python and when is it typically used?with an example..>>\n",
        "\n",
        "\n",
        "\n",
        "\n",
        "*A lambda function in Python is a small, one-line anonymous function.\n",
        "It doesn't use the def keyword and doesn’t need a name.*\n",
        "Example..>>\n",
        "\n"
      ],
      "metadata": {
        "id": "3tPirqwxHmss"
      }
    },
    {
      "cell_type": "code",
      "source": [
        "lambda arguments: expression\n",
        "def add(a, b):\n",
        "    return a + b\n",
        "\n",
        "# Lambda function (same as above)\n",
        "add_lambda = lambda a, b: a + b\n",
        "\n",
        "print(add(2, 3))\n",
        "print(add_lambda(2, 3))"
      ],
      "metadata": {
        "id": "fd-Bd3GLGA4Q"
      },
      "execution_count": null,
      "outputs": []
    },
    {
      "cell_type": "markdown",
      "source": [
        "Q9: Explain the purpose and usage of the 'map ()' function in Python.with an example..>>\n",
        "The map() function is used to:\n",
        "\n",
        " * Apply a function to every item in a sequence (like a list)\n",
        "\n",
        " * It returns a new map object (which can be converted to a list)\n",
        "\n"
      ],
      "metadata": {
        "id": "b9TT_oBmIlJn"
      }
    },
    {
      "cell_type": "code",
      "source": [
        "#Example\n",
        "numbers = [1, 2, 3, 4]\n",
        "\n",
        "# Using map with lambda\n",
        "squares = map(lambda x: x ** 2, numbers)\n",
        "\n",
        "print(list(squares))"
      ],
      "metadata": {
        "id": "jswOF1OjGA2L"
      },
      "execution_count": null,
      "outputs": []
    },
    {
      "cell_type": "markdown",
      "source": [
        "Q10: What is the difference between map( ), reduce( ), and filter( ) functions in Python?with an example..>>\n",
        "\n",
        "  *(i) map( ) → Transform each item*\n",
        "   * it applies a function to every item in an iterable (like a list).\n",
        "\n",
        "   * Returns a new iterable with transformed values.\n",
        "\n",
        "\n",
        " *(ii) reduce( ) → Combine all items into one*\n",
        "  * It reduces the iterable to a single value by applying a function repeatedly.\n",
        "  * You must import it from functools\n",
        "\n",
        "\n",
        " *(iii) filter( ) → Select items that match a condition*\n",
        "  * It filters the items from the iterable where the function returns True.\n",
        "  * Keeps only the values that match a condition.\n",
        "\n"
      ],
      "metadata": {
        "id": "imk6ESCkJTLR"
      }
    },
    {
      "cell_type": "code",
      "source": [
        "# Example map()\n",
        "numbers = [1, 2, 3, 4]\n",
        "squares = list(map(lambda x: x**2, numbers))\n",
        "print(squares)"
      ],
      "metadata": {
        "id": "8UItSPETGAz5"
      },
      "execution_count": null,
      "outputs": []
    },
    {
      "cell_type": "code",
      "source": [
        "# Example reduce()\n",
        "from functools import reduce\n",
        "\n",
        "numbers = [1, 2, 3, 4]\n",
        "product = reduce(lambda x, y: x * y, numbers)\n",
        "print(product)"
      ],
      "metadata": {
        "id": "ggNBiTBMGAxs"
      },
      "execution_count": null,
      "outputs": []
    },
    {
      "cell_type": "code",
      "source": [
        "# Example filter()\n",
        "numbers = [1, 2, 3, 4, 5, 6]\n",
        "evens = list(filter(lambda x: x % 2 == 0, numbers))\n",
        "print(evens)"
      ],
      "metadata": {
        "colab": {
          "base_uri": "https://localhost:8080/"
        },
        "id": "FhRN-yrAGAvP",
        "outputId": "6cc776aa-997b-4edc-ffd7-4eae23f818fb"
      },
      "execution_count": 183,
      "outputs": [
        {
          "output_type": "stream",
          "name": "stdout",
          "text": [
            "[2, 4, 6]\n"
          ]
        }
      ]
    },
    {
      "cell_type": "markdown",
      "source": [
        "Q11 i will Attach paper image for this answer....."
      ],
      "metadata": {
        "id": "lhrTVShMzJ3D"
      }
    },
    {
      "cell_type": "markdown",
      "source": [
        "# Theory Questions"
      ],
      "metadata": {
        "id": "ARxPfRHB0AzQ"
      }
    },
    {
      "cell_type": "code",
      "source": [
        "# Q1: Write a Python function that takes a list of numbers as input and returns the sum of all even numbers in the list?\n",
        "def sum_of_even_numbers(numbers):\n",
        "    even_sum = 0\n",
        "    for num in numbers:\n",
        "        if num % 2 == 0:\n",
        "            even_sum += num\n",
        "    return even_sum"
      ],
      "metadata": {
        "id": "8-pMPqv1vWdH"
      },
      "execution_count": 184,
      "outputs": []
    },
    {
      "cell_type": "code",
      "source": [
        "sum_of_even_numbers([2,5,7,8,4,1])"
      ],
      "metadata": {
        "colab": {
          "base_uri": "https://localhost:8080/"
        },
        "id": "ffHTtCvzvWaP",
        "outputId": "d2b99b00-7e4f-42de-f86d-4bbc81d846a0"
      },
      "execution_count": 185,
      "outputs": [
        {
          "output_type": "execute_result",
          "data": {
            "text/plain": [
              "14"
            ]
          },
          "metadata": {},
          "execution_count": 185
        }
      ]
    },
    {
      "cell_type": "code",
      "source": [
        "# Q2: Create a Python function that accepts a string and returns the reverse of that string?\n",
        "\n",
        "input_text = \"Python is fun\"\n",
        "reversed_text = reverse_string(input_text)\n",
        "print(\"Reversed string:\", reversed_text)"
      ],
      "metadata": {
        "colab": {
          "base_uri": "https://localhost:8080/"
        },
        "id": "Ew96EU99vWUj",
        "outputId": "c0486998-5cf2-42e0-f3f7-d34823b209e4"
      },
      "execution_count": 186,
      "outputs": [
        {
          "output_type": "stream",
          "name": "stdout",
          "text": [
            "Reversed string: nuf si nohtyP\n"
          ]
        }
      ]
    },
    {
      "cell_type": "code",
      "source": [
        "# Q3: Implement a Python function that takes a list of integers and returns a new list containing the squares of each number?\n",
        "\n",
        "def square_numbers(numbers):\n",
        "    squared_list = []\n",
        "    for num in numbers:\n",
        "        squared_list.append(num ** 2)\n",
        "    return squared_list"
      ],
      "metadata": {
        "id": "JWgfH70zvWQ2"
      },
      "execution_count": 187,
      "outputs": []
    },
    {
      "cell_type": "code",
      "source": [
        "my_list = [1, 2, 3, 4, 5]\n",
        "result = square_numbers(my_list)\n",
        "print(\"Squared list:\", result)"
      ],
      "metadata": {
        "colab": {
          "base_uri": "https://localhost:8080/"
        },
        "id": "3p1DsRZ3vWL5",
        "outputId": "57e1f492-6180-47b0-b927-89ffac518fc6"
      },
      "execution_count": 188,
      "outputs": [
        {
          "output_type": "stream",
          "name": "stdout",
          "text": [
            "Squared list: [1, 4, 9, 16, 25]\n"
          ]
        }
      ]
    },
    {
      "cell_type": "code",
      "source": [
        "# Q4: Write a Python function that checks if a given number is prime or not from 1 to 200?\n",
        "def is_prime(n):\n",
        "    if n <= 1:\n",
        "        return False  # 0 and 1 are not prime\n",
        "    for i in range(2, int(n**0.5) + 1):\n",
        "        if n % i == 0:\n",
        "            return False\n",
        "    return True"
      ],
      "metadata": {
        "id": "oaPNyBWRnXff"
      },
      "execution_count": 189,
      "outputs": []
    },
    {
      "cell_type": "code",
      "source": [
        "for num in range(1, 201):\n",
        "    if is_prime(num):\n",
        "        print(num, \"is a prime number\")"
      ],
      "metadata": {
        "colab": {
          "base_uri": "https://localhost:8080/"
        },
        "id": "QkoX0TsR3qWr",
        "outputId": "fa249bd0-1ecd-40f4-be2c-5796100df0da"
      },
      "execution_count": 190,
      "outputs": [
        {
          "output_type": "stream",
          "name": "stdout",
          "text": [
            "2 is a prime number\n",
            "3 is a prime number\n",
            "5 is a prime number\n",
            "7 is a prime number\n",
            "11 is a prime number\n",
            "13 is a prime number\n",
            "17 is a prime number\n",
            "19 is a prime number\n",
            "23 is a prime number\n",
            "29 is a prime number\n",
            "31 is a prime number\n",
            "37 is a prime number\n",
            "41 is a prime number\n",
            "43 is a prime number\n",
            "47 is a prime number\n",
            "53 is a prime number\n",
            "59 is a prime number\n",
            "61 is a prime number\n",
            "67 is a prime number\n",
            "71 is a prime number\n",
            "73 is a prime number\n",
            "79 is a prime number\n",
            "83 is a prime number\n",
            "89 is a prime number\n",
            "97 is a prime number\n",
            "101 is a prime number\n",
            "103 is a prime number\n",
            "107 is a prime number\n",
            "109 is a prime number\n",
            "113 is a prime number\n",
            "127 is a prime number\n",
            "131 is a prime number\n",
            "137 is a prime number\n",
            "139 is a prime number\n",
            "149 is a prime number\n",
            "151 is a prime number\n",
            "157 is a prime number\n",
            "163 is a prime number\n",
            "167 is a prime number\n",
            "173 is a prime number\n",
            "179 is a prime number\n",
            "181 is a prime number\n",
            "191 is a prime number\n",
            "193 is a prime number\n",
            "197 is a prime number\n",
            "199 is a prime number\n"
          ]
        }
      ]
    },
    {
      "cell_type": "code",
      "source": [
        "# Q5: Create an iterator class in Python that generates the Fibonacci sequence up to a specified number of terms?\n",
        "class SimpleFibonacci:\n",
        "    def __init__(self, n):\n",
        "        self.n = n        # Total terms to generate\n",
        "        self.count = 0    # Counter to keep track\n",
        "        self.first = 0    # First number\n",
        "        self.second = 1   # Second number\n",
        "\n",
        "    def __iter__(self):\n",
        "        return self       # Makes this class an iterator\n",
        "\n",
        "    def __next__(self):\n",
        "        if self.count >= self.n:\n",
        "            raise StopIteration  # Stop after n terms\n",
        "\n",
        "        # Return the next Fibonacci number\n",
        "        if self.count == 0:\n",
        "            self.count += 1\n",
        "            return self.first\n",
        "        elif self.count == 1:\n",
        "            self.count += 1\n",
        "            return self.second\n",
        "        else:\n",
        "            next_value = self.first + self.second\n",
        "            self.first = self.second\n",
        "            self.second = next_value\n",
        "            self.count += 1\n",
        "            return next_value"
      ],
      "metadata": {
        "id": "lYmU3ao03qT4"
      },
      "execution_count": 191,
      "outputs": []
    },
    {
      "cell_type": "code",
      "source": [
        "fib = SimpleFibonacci(7)\n",
        "\n",
        "# Print them one by one using a loop\n",
        "for num in fib:\n",
        "    print(num)\n"
      ],
      "metadata": {
        "colab": {
          "base_uri": "https://localhost:8080/"
        },
        "id": "VVlKRSii3qRM",
        "outputId": "5637c4c1-524d-4c3e-9a26-0c754561c05c"
      },
      "execution_count": 192,
      "outputs": [
        {
          "output_type": "stream",
          "name": "stdout",
          "text": [
            "0\n",
            "1\n",
            "1\n",
            "2\n",
            "3\n",
            "5\n",
            "8\n"
          ]
        }
      ]
    },
    {
      "cell_type": "code",
      "source": [
        "# Q6:Write a generator function in Python that yields the powers of 2 up to a given exponent?\n",
        "def powers_(max_exponent):\n",
        "    for i in range(max_exponent + 1):\n",
        "        yield 2 ** i"
      ],
      "metadata": {
        "id": "LLz_d9OI3qOx"
      },
      "execution_count": 193,
      "outputs": []
    },
    {
      "cell_type": "code",
      "source": [
        "for num in powers_(6):\n",
        "    print(num)"
      ],
      "metadata": {
        "colab": {
          "base_uri": "https://localhost:8080/"
        },
        "id": "07x5qQnG3qLs",
        "outputId": "54b6f8a6-e45b-4839-d171-a13c4f5b04b0"
      },
      "execution_count": 194,
      "outputs": [
        {
          "output_type": "stream",
          "name": "stdout",
          "text": [
            "1\n",
            "2\n",
            "4\n",
            "8\n",
            "16\n",
            "32\n",
            "64\n"
          ]
        }
      ]
    },
    {
      "cell_type": "code",
      "source": [
        "# Q7:Implement a generator function that reads a file line by line and yields each line as a string?\n",
        "with open(\"students.txt\", \"w\") as file:\n",
        "    file.write(\"Akash\\n\")\n",
        "    file.write(\"Ajay\\n\")\n",
        "    file.write(\"Priya\\n\")\n",
        "    file.write(\"Bijay\\n\")\n",
        "    file.write(\"Ayush\\n\")"
      ],
      "metadata": {
        "id": "OVyP3vyn3qIq"
      },
      "execution_count": 195,
      "outputs": []
    },
    {
      "cell_type": "code",
      "source": [
        "def read_student_names(filename):\n",
        "    with open(filename, 'r') as file:\n",
        "        for line in file:\n",
        "            yield line.strip()"
      ],
      "metadata": {
        "id": "ANDsdNI73qFy"
      },
      "execution_count": 196,
      "outputs": []
    },
    {
      "cell_type": "code",
      "source": [
        "for name in read_student_names(\"students.txt\"):\n",
        "    print(\"Student name:\", name)\n"
      ],
      "metadata": {
        "colab": {
          "base_uri": "https://localhost:8080/"
        },
        "id": "KWxVAQwz3qCD",
        "outputId": "751d4e9f-a980-44e0-a329-f93ca3cd8126"
      },
      "execution_count": 197,
      "outputs": [
        {
          "output_type": "stream",
          "name": "stdout",
          "text": [
            "Student name: Akash\n",
            "Student name: Ajay\n",
            "Student name: Priya\n",
            "Student name: Bijay\n",
            "Student name: Ayush\n"
          ]
        }
      ]
    },
    {
      "cell_type": "code",
      "source": [
        "# Q8: Use a lambda function in Python to sort a list of tuples based on the second element of each tuple?\n",
        "data = [(\"Akash\", 88), (\"Bijay\", 75), (\"Shambhavi\", 95), (\"Praveen\", 80)]\n",
        "sorted_data = sorted(data, key=lambda x: x[1])\n",
        "print(sorted_data)"
      ],
      "metadata": {
        "colab": {
          "base_uri": "https://localhost:8080/"
        },
        "id": "1LaZ51wu3p9e",
        "outputId": "752732da-db5b-4d4c-c2d5-897f7260b4a3"
      },
      "execution_count": 198,
      "outputs": [
        {
          "output_type": "stream",
          "name": "stdout",
          "text": [
            "[('Bijay', 75), ('Praveen', 80), ('Akash', 88), ('Shambhavi', 95)]\n"
          ]
        }
      ]
    },
    {
      "cell_type": "code",
      "source": [
        "# Q9: Write a Python program that uses \"map(' to convert a list of temperatures from Celsius to Fahrenheit.\n",
        "cities = [(\"Delhi\", 30), (\"London\", 20), (\"New York\", 25), (\"Tokyo\", 28)]\n",
        "\n",
        "# Convert to Fahrenheit using map() and lambda\n",
        "converted = list(map(lambda x: (x[0], (x[1] * 9/5) + 32), cities))\n",
        "\n",
        "# Print result\n",
        "for city, temp in converted:\n",
        "    print(f\"{city}: {temp:.2f}°F\")"
      ],
      "metadata": {
        "colab": {
          "base_uri": "https://localhost:8080/"
        },
        "id": "MhMHDsFj3p6L",
        "outputId": "61c9f82c-5bbc-4fc6-c4a6-ea3b621930fe"
      },
      "execution_count": 199,
      "outputs": [
        {
          "output_type": "stream",
          "name": "stdout",
          "text": [
            "Delhi: 86.00°F\n",
            "London: 68.00°F\n",
            "New York: 77.00°F\n",
            "Tokyo: 82.40°F\n"
          ]
        }
      ]
    },
    {
      "cell_type": "code",
      "source": [
        "# Q10: Create a Python program that uses \"filter()' to remove all the vowels from a given string?\n",
        "sentences = [\n",
        "    \"Python is powerful!\",\n",
        "    \"Filter functions are fun.\",\n",
        "    \"Vowels should be removed.\",\n",
        "    \"Keep consonants only.\"\n",
        "]\n",
        "def remove_vowels_from_sentence(sentence):\n",
        "    vowels = \"aeiouAEIOU\"\n",
        "    return ''.join(filter(lambda ch: ch not in vowels, sentence))\n",
        "\n",
        "# Apply the function to each sentence using map()\n",
        "processed_sentences = list(map(remove_vowels_from_sentence, sentences))\n",
        "\n",
        "# Print result\n",
        "for original, processed in zip(sentences, processed_sentences):\n",
        "    print(f\"Original: {original}\")\n",
        "    print(f\"No vowels: {processed}\\n\")"
      ],
      "metadata": {
        "colab": {
          "base_uri": "https://localhost:8080/"
        },
        "id": "Zr0qbx3R3p2i",
        "outputId": "bd2bd8c3-2f02-4872-b8f6-88bfd0cd4f32"
      },
      "execution_count": 200,
      "outputs": [
        {
          "output_type": "stream",
          "name": "stdout",
          "text": [
            "Original: Python is powerful!\n",
            "No vowels: Pythn s pwrfl!\n",
            "\n",
            "Original: Filter functions are fun.\n",
            "No vowels: Fltr fnctns r fn.\n",
            "\n",
            "Original: Vowels should be removed.\n",
            "No vowels: Vwls shld b rmvd.\n",
            "\n",
            "Original: Keep consonants only.\n",
            "No vowels: Kp cnsnnts nly.\n",
            "\n"
          ]
        }
      ]
    },
    {
      "cell_type": "code",
      "source": [
        "# Q11 Write a Python program using lambda and map?\n",
        "\n",
        "orders_data = [\n",
        "    [34587, \"Learning Python, Mark Lutz\", 4, 40.95],\n",
        "    [98762, \"Programming Python, Mark Lutz\", 5, 56.80],\n",
        "    [77226, \"Head First Python, Paul Barry\", 3, 32.95],\n",
        "    [88112, \"Einführung in Python3, Bernd Klein\", 3, 24.99]\n",
        "]\n",
        "\n",
        "# Use map and lambda to calculate the total price and apply the 10€ increase if needed\n",
        "processed_orders = list(map(\n",
        "    lambda order: (order[0], (order[2] * order[3] + 10) if (order[2] * order[3]) < 100 else (order[2] * order[3])),\n",
        "    orders_data\n",
        "))\n",
        "\n",
        "print(processed_orders)\n"
      ],
      "metadata": {
        "colab": {
          "base_uri": "https://localhost:8080/"
        },
        "id": "6rqMZe0Z3pyM",
        "outputId": "4b9f65a1-f1c0-4149-be7a-ad86e046f5a8"
      },
      "execution_count": 201,
      "outputs": [
        {
          "output_type": "stream",
          "name": "stdout",
          "text": [
            "[(34587, 163.8), (98762, 284.0), (77226, 108.85000000000001), (88112, 84.97)]\n"
          ]
        }
      ]
    },
    {
      "cell_type": "code",
      "source": [
        "print(processed_orders)"
      ],
      "metadata": {
        "colab": {
          "base_uri": "https://localhost:8080/"
        },
        "id": "7vdeTAEq3pt5",
        "outputId": "0ecbe4a5-d1ca-47e7-e5d5-56958f8c8642"
      },
      "execution_count": 202,
      "outputs": [
        {
          "output_type": "stream",
          "name": "stdout",
          "text": [
            "[(34587, 163.8), (98762, 284.0), (77226, 108.85000000000001), (88112, 84.97)]\n"
          ]
        }
      ]
    }
  ]
}